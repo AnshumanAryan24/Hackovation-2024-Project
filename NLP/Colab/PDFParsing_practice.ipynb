{
  "cells": [
    {
      "cell_type": "markdown",
      "metadata": {
        "colab_type": "text",
        "id": "view-in-github"
      },
      "source": [
        "<a href=\"https://colab.research.google.com/github/AnshumanAryan24/Hackovation-2024-Project/blob/main/PDFParsing_practice.ipynb\" target=\"_parent\"><img src=\"https://colab.research.google.com/assets/colab-badge.svg\" alt=\"Open In Colab\"/></a>"
      ]
    },
    {
      "cell_type": "markdown",
      "metadata": {
        "id": "OfUpR-CCQFfs"
      },
      "source": [
        "# PDF Text Parsing\n",
        "From - https://medium.com/@Evenword/6-python-packages-for-working-with-pdf-files-5854c155ac8f"
      ]
    },
    {
      "cell_type": "markdown",
      "metadata": {
        "id": "sANej7wwQKIl"
      },
      "source": [
        "## Importing libraries"
      ]
    },
    {
      "cell_type": "code",
      "execution_count": 1,
      "metadata": {
        "colab": {
          "base_uri": "https://localhost:8080/"
        },
        "id": "VhvS9UlRQC2Y",
        "outputId": "ccbeacb5-9a5a-42cb-c4e8-c368f6b04b2c"
      },
      "outputs": [
        {
          "name": "stdout",
          "output_type": "stream",
          "text": [
            "Collecting PyPDF2\n",
            "  Downloading pypdf2-3.0.1-py3-none-any.whl.metadata (6.8 kB)\n",
            "Downloading pypdf2-3.0.1-py3-none-any.whl (232 kB)\n",
            "   ---------------------------------------- 0.0/232.6 kB ? eta -:--:--\n",
            "   - -------------------------------------- 10.2/232.6 kB ? eta -:--:--\n",
            "   ----- --------------------------------- 30.7/232.6 kB 640.0 kB/s eta 0:00:01\n",
            "   ---------- ---------------------------- 61.4/232.6 kB 656.4 kB/s eta 0:00:01\n",
            "   --------------- ----------------------- 92.2/232.6 kB 744.7 kB/s eta 0:00:01\n",
            "   ----------------------- -------------- 143.4/232.6 kB 708.1 kB/s eta 0:00:01\n",
            "   -------------------------- ----------- 163.8/232.6 kB 756.6 kB/s eta 0:00:01\n",
            "   ------------------------------- ------ 194.6/232.6 kB 692.9 kB/s eta 0:00:01\n",
            "   -------------------------------------- 232.6/232.6 kB 710.3 kB/s eta 0:00:00\n",
            "Installing collected packages: PyPDF2\n",
            "Successfully installed PyPDF2-3.0.1\n"
          ]
        },
        {
          "name": "stderr",
          "output_type": "stream",
          "text": [
            "DEPRECATION: Loading egg at c:\\python312\\lib\\site-packages\\vboxapi-1.0-py3.12.egg is deprecated. pip 24.3 will enforce this behaviour change. A possible replacement is to use pip for package installation.. Discussion can be found at https://github.com/pypa/pip/issues/12330\n",
            "\n",
            "[notice] A new release of pip is available: 24.0 -> 24.2\n",
            "[notice] To update, run: python.exe -m pip install --upgrade pip\n"
          ]
        }
      ],
      "source": [
        "!python -m pip install PyPDF2"
      ]
    },
    {
      "cell_type": "code",
<<<<<<< HEAD
      "execution_count": 2,
=======
      "execution_count": 6,
>>>>>>> b6d55701608683be5d9b35e684c780c06c35e720
      "metadata": {
        "colab": {
          "base_uri": "https://localhost:8080/"
        },
        "id": "Q7ZPjc2yVAdM",
        "outputId": "34b516b1-e3e5-435a-ac83-3be3407a02d6"
      },
      "outputs": [
        {
          "name": "stdout",
          "output_type": "stream",
          "text": [
            "Collecting Flask\n",
            "  Downloading flask-3.0.3-py3-none-any.whl.metadata (3.2 kB)\n",
            "Requirement already satisfied: Werkzeug>=3.0.0 in c:\\python312\\lib\\site-packages (from Flask) (3.0.1)\n",
            "Requirement already satisfied: Jinja2>=3.1.2 in c:\\python312\\lib\\site-packages (from Flask) (3.1.3)\n",
            "Collecting itsdangerous>=2.1.2 (from Flask)\n",
            "  Downloading itsdangerous-2.2.0-py3-none-any.whl.metadata (1.9 kB)\n",
            "Requirement already satisfied: click>=8.1.3 in c:\\python312\\lib\\site-packages (from Flask) (8.1.7)\n",
            "Collecting blinker>=1.6.2 (from Flask)\n",
            "  Downloading blinker-1.8.2-py3-none-any.whl.metadata (1.6 kB)\n",
            "Requirement already satisfied: colorama in c:\\users\\swati prasad\\appdata\\roaming\\python\\python312\\site-packages (from click>=8.1.3->Flask) (0.4.6)\n",
            "Requirement already satisfied: MarkupSafe>=2.0 in c:\\python312\\lib\\site-packages (from Jinja2>=3.1.2->Flask) (2.1.5)\n",
            "Downloading flask-3.0.3-py3-none-any.whl (101 kB)\n",
            "   ---------------------------------------- 0.0/101.7 kB ? eta -:--:--\n",
            "   ---------------------------------------- 0.0/101.7 kB ? eta -:--:--\n",
            "   ---------------------------------------- 0.0/101.7 kB ? eta -:--:--\n",
            "   ---------------------------------------- 0.0/101.7 kB ? eta -:--:--\n",
            "   ---------------------------------------- 0.0/101.7 kB ? eta -:--:--\n",
            "   ---- ----------------------------------- 10.2/101.7 kB ? eta -:--:--\n",
            "   ---- ----------------------------------- 10.2/101.7 kB ? eta -:--:--\n",
            "   ---- ----------------------------------- 10.2/101.7 kB ? eta -:--:--\n",
            "   --------------- ----------------------- 41.0/101.7 kB 178.6 kB/s eta 0:00:01\n",
            "   ----------------------- --------------- 61.4/101.7 kB 252.2 kB/s eta 0:00:01\n",
            "   ------------------------------- ------- 81.9/101.7 kB 286.7 kB/s eta 0:00:01\n",
            "   -------------------------------------- 101.7/101.7 kB 308.1 kB/s eta 0:00:00\n",
            "Downloading blinker-1.8.2-py3-none-any.whl (9.5 kB)\n",
            "Downloading itsdangerous-2.2.0-py3-none-any.whl (16 kB)\n",
            "Installing collected packages: itsdangerous, blinker, Flask\n"
          ]
        },
        {
          "name": "stderr",
          "output_type": "stream",
          "text": [
            "DEPRECATION: Loading egg at c:\\python312\\lib\\site-packages\\vboxapi-1.0-py3.12.egg is deprecated. pip 24.3 will enforce this behaviour change. A possible replacement is to use pip for package installation.. Discussion can be found at https://github.com/pypa/pip/issues/12330\n",
            "  WARNING: Failed to write executable - trying to use .deleteme logic\n",
            "ERROR: Could not install packages due to an OSError: [WinError 2] The system cannot find the file specified: 'c:\\\\Python312\\\\Scripts\\\\flask.exe' -> 'c:\\\\Python312\\\\Scripts\\\\flask.exe.deleteme'\n",
            "\n",
            "\n",
            "[notice] A new release of pip is available: 24.0 -> 24.2\n",
            "[notice] To update, run: python.exe -m pip install --upgrade pip\n"
          ]
        }
      ],
      "source": [
        "!python -m pip install Flask"
      ]
    },
    {
      "cell_type": "code",
<<<<<<< HEAD
      "execution_count": 3,
=======
      "execution_count": 7,
>>>>>>> b6d55701608683be5d9b35e684c780c06c35e720
      "metadata": {
        "id": "k4nPuI-gQZD4"
      },
      "outputs": [],
      "source": [
        "from PyPDF2 import PdfReader"
      ]
    },
    {
      "cell_type": "code",
<<<<<<< HEAD
      "execution_count": 4,
=======
      "execution_count": 8,
>>>>>>> b6d55701608683be5d9b35e684c780c06c35e720
      "metadata": {
        "id": "B7NXHHyyVGQj"
      },
      "outputs": [],
      "source": [
        "from flask import Flask, jsonify, request"
      ]
    },
    {
      "cell_type": "markdown",
      "metadata": {
        "id": "4EjD35iGVdeh"
      },
      "source": [
        "## Loading Flask app the JS code will call"
      ]
    },
    {
      "cell_type": "code",
<<<<<<< HEAD
      "execution_count": 7,
=======
      "execution_count": null,
>>>>>>> b6d55701608683be5d9b35e684c780c06c35e720
      "metadata": {
        "colab": {
          "base_uri": "https://localhost:8080/"
        },
        "id": "-kzp-nacVlga",
        "outputId": "020b17b6-ddf0-470d-c829-f64378e5e936"
      },
      "outputs": [
        {
          "name": "stdout",
          "output_type": "stream",
          "text": [
            " * Serving Flask app '__main__'\n",
            " * Debug mode: on\n"
          ]
        },
        {
          "name": "stderr",
          "output_type": "stream",
          "text": [
<<<<<<< HEAD
            "WARNING: This is a development server. Do not use it in a production deployment. Use a production WSGI server instead.\n",
            " * Running on http://127.0.0.1:8800\n",
            "Press CTRL+C to quit\n",
            " * Restarting with stat\n"
          ]
        },
        {
          "ename": "SystemExit",
          "evalue": "1",
          "output_type": "error",
          "traceback": [
            "An exception has occurred, use %tb to see the full traceback.\n",
            "\u001b[1;31mSystemExit\u001b[0m\u001b[1;31m:\u001b[0m 1\n"
          ]
        },
        {
          "name": "stderr",
          "output_type": "stream",
          "text": [
            "C:\\Users\\Swati Prasad\\AppData\\Roaming\\Python\\Python312\\site-packages\\IPython\\core\\interactiveshell.py:3561: UserWarning: To exit: use 'exit', 'quit', or Ctrl-D.\n",
            "  warn(\"To exit: use 'exit', 'quit', or Ctrl-D.\", stacklevel=1)\n"
=======
            "INFO:werkzeug:\u001b[31m\u001b[1mWARNING: This is a development server. Do not use it in a production deployment. Use a production WSGI server instead.\u001b[0m\n",
            " * Running on http://127.0.0.1:5000\n",
            "INFO:werkzeug:\u001b[33mPress CTRL+C to quit\u001b[0m\n",
            "INFO:werkzeug: * Restarting with stat\n"
>>>>>>> b6d55701608683be5d9b35e684c780c06c35e720
          ]
        }
      ],
      "source": [
<<<<<<< HEAD
        "# app = Flask(__name__)\n",
        "# @app.route('/pdfparsingtool', methods=['GET'])\n",
        "# def parse():\n",
        "#   PATH = request.args.get('number', default=1, type=str)\n",
        "#   reader = PdfReader(PATH)\n",
        "#   return jsonify({'pages': [page.extract_text() for page in reader.pages()]})\n",
        "# # meta = reader.metadata\n",
        "# # print(\"Total Pages: \", len(reader.pages))\n",
        "# # # All of the following could be None!\n",
        "# # print(\"Author: \", meta.author)\n",
        "# # print(\"Creator: \", meta.creator)\n",
        "# # print(\"Producer: \", meta.producer)\n",
        "# # print(\"Subject: \", meta.subject)\n",
        "# # print(\"Title: \", meta.title)\n",
        "\n",
        "# if __name__ == '__main__':\n",
        "#     app.run(debug=True, port=8800)"
=======
        "app = Flask(__name__)\n",
        "@app.route('/pdfparsingtool', methods=['GET'])\n",
        "def parse():\n",
        "  PATH = request.args.get('number', default=1, type=str)\n",
        "  reader = PdfReader(PATH)\n",
        "  return jsonify({'pages': [page.extract_text() for page in reader.pages()]})\n",
        "# meta = reader.metadata\n",
        "# print(\"Total Pages: \", len(reader.pages))\n",
        "# # All of the following could be None!\n",
        "# print(\"Author: \", meta.author)\n",
        "# print(\"Creator: \", meta.creator)\n",
        "# print(\"Producer: \", meta.producer)\n",
        "# print(\"Subject: \", meta.subject)\n",
        "# print(\"Title: \", meta.title)\n",
        "\n",
        "if __name__ == '__main__':\n",
        "    app.run(debug=True, port=5000)"
>>>>>>> b6d55701608683be5d9b35e684c780c06c35e720
      ]
    },
    {
      "cell_type": "markdown",
      "metadata": {
        "id": "O99JqlMuQkT8"
      },
      "source": [
        "## Loading file"
      ]
    },
    {
      "cell_type": "markdown",
      "metadata": {
        "id": "Xjg98gCRRB6B"
      },
      "source": [
        "## Printing parsing results"
      ]
    },
    {
      "cell_type": "code",
      "execution_count": 8,
      "metadata": {
        "colab": {
          "base_uri": "https://localhost:8080/"
        },
        "collapsed": true,
        "id": "wOopJ8g_RBRN",
        "outputId": "a73e9dbb-f350-46fb-f346-470c0074f0cd"
      },
      "outputs": [
        {
          "name": "stdout",
          "output_type": "stream",
          "text": [
            "\n",
            "------------------------\n",
            "PAGE  0\n",
            "BCSE306L Artificial Intelligence L T P C\n",
            "3 0 0 3\n",
            "Pre-requisite NIL Syllabus version \n",
            " 1.0 \n",
            "Course Objectives \n",
            "1. To impart artificial intelligence principles, techniques and its history.\n",
            "2. To assess the applicability, strengths, and weaknesses of the basic knowledge \n",
            "representation, problem solving, and learning methods in solving engineering \n",
            "problems  \n",
            "3. To develop intelligent systems by assembling solutions to concrete computational \n",
            "problems\n",
            "Course Outcomes \n",
            "On completion of this course, student should be able to:\n",
            "1. Evaluate Artificial Intelligence (AI) methods and describe their foundations. \n",
            "2. Apply basic principles of AI in solutions that require problem- solving, inference, \n",
            "perception, knowledge representation and learning. \n",
            "3. Demonstrate knowledge of reasoning, uncertainty, and knowledge representation for \n",
            "solving real-world problems \n",
            "4. Analyse and illustrate how search algorithms play a vital role in problem-solving \n",
            "Module:1  Introduction 6 hours\n",
            "Introduction- Evolution of AI, State of Art -Different Types of Artificial Intelligence-\n",
            "Applications of AI-Subfields of AI-Intelligent Agents- Structure of Intelligent Agents- \n",
            "Environments \n",
            "Module:2  Problem Solving based on Searching 6 hours\n",
            "Introduction to Problem Solving by searching Methods- State Space search, Uninformed \n",
            "Search Methods – Uniform Cost Search, Breadth First Search- Depth First Search-Depth-\n",
            "limited search, Iterative deepening depth-first, Informed Search Methods- Best First Search, \n",
            "A* Search \n",
            "Module 3 Local Search and Adversarial Search 5 hours\n",
            "Local Search algorithms – Hill-climbing search, Simulated annealing, Genetic Algorithm, \n",
            "Adversarial Search: Game Trees and Minimax Evaluation, Elementary two-players games: \n",
            "tic-tac-toe, Minimax with Alpha-Beta Pruning.\n",
            "Module:4 Logic and Reasoning 8 hours\n",
            "Introduction to Logic and Reasoning -Propositional Logic-First Order Logic-Inference in First \n",
            "Order Logic- Unification, Forward Chaining, Backward Chaining, Resolution.\n",
            "Module:5 Uncertain Knowledge and Reasoning 5 hours\n",
            "Quantifying Uncertainty- Bayes Rule -Bayesian Belief Network- Approximate Inference in \n",
            "Bayesian networks\n",
            "Module:6  Planning 7 hours\n",
            "Classical planning, Planning as State- space search, Forward search, backward search, \n",
            "Planning graphs, Hierarchical Planning, Planning and acting in Nondeterministic domains – \n",
            "Sensor-less Planning, Multiagent planning \n",
            "Module:7  Communicating, Perceiving and Acting  6 hours\n",
            "Communication-Fundamentals of Language -Probabilistic Language Processing - Information \n",
            "Retrieval- Information Extraction-Perception-Image Formation- Object Recognition. \n",
            "Module:8  Contemporary Issues 2 hours\n",
            "Total Lecture hours: 45 hours\n",
            "Text Book\n",
            "1. Russell, S. and Norvig, P. 2015. Artificial Intelligence - A Modern Approach, 3rd Edition, \n",
            "Prentice Hall.Agenda Item 65/39 - Annexure - 35\n",
            "Proceedings of the 65th Academic Council (17.03.2022) 994\n",
            "\n",
            "------------------------\n",
            "PAGE  1\n",
            "Reference Books\n",
            "1.\n",
            "2 Alpaydin, E. 2010. Introduction to Machine Learning. 2ndEdition, MIT Press.\n",
            "Mode of Evaluation: CAT, Assignment, Quiz, FAT\n",
            "Recommended by Board of Studies 04-03-2022\n",
            "Approved by Academic Council No. 65 Date 17-03-2022\n",
            " Agenda Item 65/39 - Annexure - 35\n",
            "Proceedings of the 65th Academic Council (17.03.2022) 995\n"
          ]
        }
      ],
      "source": [
<<<<<<< HEAD
        "pages = reader.pages\n",
        "for index, page in enumerate(pages):\n",
        "  print(\"\\n\\n\\n------------------------\")\n",
        "  print(\"PAGE \", index)\n",
        "  print(page.extract_text())"
=======
        "# pages = reader.pages\n",
        "# for index, page in enumerate(pages):\n",
        "#   print(\"\\n------------------------\")\n",
        "#   print(\"PAGE \", index)\n",
        "#   print(page.extract_text())"
>>>>>>> b6d55701608683be5d9b35e684c780c06c35e720
      ]
    }
  ],
  "metadata": {
    "colab": {
      "authorship_tag": "ABX9TyOqYJ03ULb4OBTK3sW9kwSX",
      "gpuType": "T4",
      "include_colab_link": true,
      "provenance": []
    },
    "kernelspec": {
      "display_name": "Python 3",
      "name": "python3"
    },
    "language_info": {
<<<<<<< HEAD
      "codemirror_mode": {
        "name": "ipython",
        "version": 3
      },
      "file_extension": ".py",
      "mimetype": "text/x-python",
      "name": "python",
      "nbconvert_exporter": "python",
      "pygments_lexer": "ipython3",
      "version": "3.12.0"
=======
      "name": "python"
>>>>>>> b6d55701608683be5d9b35e684c780c06c35e720
    }
  },
  "nbformat": 4,
  "nbformat_minor": 0
}
