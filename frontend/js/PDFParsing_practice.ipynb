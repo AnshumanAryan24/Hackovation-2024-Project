{
  "nbformat": 4,
  "nbformat_minor": 0,
  "metadata": {
    "colab": {
      "provenance": [],
      "gpuType": "T4",
      "authorship_tag": "ABX9TyOqYJ03ULb4OBTK3sW9kwSX",
      "include_colab_link": true
    },
    "kernelspec": {
      "name": "python3",
      "display_name": "Python 3"
    },
    "language_info": {
      "name": "python"
    }
  },
  "cells": [
    {
      "cell_type": "markdown",
      "metadata": {
        "id": "view-in-github",
        "colab_type": "text"
      },
      "source": [
        "<a href=\"https://colab.research.google.com/github/AnshumanAryan24/Hackovation-2024-Project/blob/main/PDFParsing_practice.ipynb\" target=\"_parent\"><img src=\"https://colab.research.google.com/assets/colab-badge.svg\" alt=\"Open In Colab\"/></a>"
      ]
    },
    {
      "cell_type": "markdown",
      "source": [
        "# PDF Text Parsing\n",
        "From - https://medium.com/@Evenword/6-python-packages-for-working-with-pdf-files-5854c155ac8f"
      ],
      "metadata": {
        "id": "OfUpR-CCQFfs"
      }
    },
    {
      "cell_type": "markdown",
      "source": [
        "## Importing libraries"
      ],
      "metadata": {
        "id": "sANej7wwQKIl"
      }
    },
    {
      "cell_type": "code",
      "execution_count": 5,
      "metadata": {
        "colab": {
          "base_uri": "https://localhost:8080/"
        },
        "id": "VhvS9UlRQC2Y",
        "outputId": "ccbeacb5-9a5a-42cb-c4e8-c368f6b04b2c"
      },
      "outputs": [
        {
          "output_type": "stream",
          "name": "stdout",
          "text": [
            "Requirement already satisfied: PyPDF2 in /usr/local/lib/python3.10/dist-packages (3.0.1)\n"
          ]
        }
      ],
      "source": [
        "!python -m pip install PyPDF2"
      ]
    },
    {
      "cell_type": "code",
      "source": [
        "!python -m pip install Flask"
      ],
      "metadata": {
        "colab": {
          "base_uri": "https://localhost:8080/"
        },
        "id": "Q7ZPjc2yVAdM",
        "outputId": "34b516b1-e3e5-435a-ac83-3be3407a02d6"
      },
      "execution_count": 6,
      "outputs": [
        {
          "output_type": "stream",
          "name": "stdout",
          "text": [
            "Requirement already satisfied: Flask in /usr/local/lib/python3.10/dist-packages (2.2.5)\n",
            "Requirement already satisfied: Werkzeug>=2.2.2 in /usr/local/lib/python3.10/dist-packages (from Flask) (3.0.4)\n",
            "Requirement already satisfied: Jinja2>=3.0 in /usr/local/lib/python3.10/dist-packages (from Flask) (3.1.4)\n",
            "Requirement already satisfied: itsdangerous>=2.0 in /usr/local/lib/python3.10/dist-packages (from Flask) (2.2.0)\n",
            "Requirement already satisfied: click>=8.0 in /usr/local/lib/python3.10/dist-packages (from Flask) (8.1.7)\n",
            "Requirement already satisfied: MarkupSafe>=2.0 in /usr/local/lib/python3.10/dist-packages (from Jinja2>=3.0->Flask) (2.1.5)\n"
          ]
        }
      ]
    },
    {
      "cell_type": "code",
      "source": [
        "from PyPDF2 import PdfReader"
      ],
      "metadata": {
        "id": "k4nPuI-gQZD4"
      },
      "execution_count": 7,
      "outputs": []
    },
    {
      "cell_type": "code",
      "source": [
        "from flask import Flask, jsonify, request"
      ],
      "metadata": {
        "id": "B7NXHHyyVGQj"
      },
      "execution_count": 8,
      "outputs": []
    },
    {
      "cell_type": "markdown",
      "source": [
        "## Loading Flask app the JS code will call"
      ],
      "metadata": {
        "id": "4EjD35iGVdeh"
      }
    },
    {
      "cell_type": "code",
      "source": [
        "app = Flask(__name__)\n",
        "@app.route('/pdfparsingtool', methods=['GET'])\n",
        "def parse():\n",
        "  PATH = request.args.get('number', default=1, type=int)\n",
        "  reader = PdfReader(PATH)\n",
        "  return jsonify({'pages': [page.extract_text() for page in reader.pages()]})\n",
        "# meta = reader.metadata\n",
        "# print(\"Total Pages: \", len(reader.pages))\n",
        "# # All of the following could be None!\n",
        "# print(\"Author: \", meta.author)\n",
        "# print(\"Creator: \", meta.creator)\n",
        "# print(\"Producer: \", meta.producer)\n",
        "# print(\"Subject: \", meta.subject)\n",
        "# print(\"Title: \", meta.title)\n",
        "\n",
        "if __name__ == '__main__':\n",
        "    app.run(debug=True, port=5000)"
      ],
      "metadata": {
        "colab": {
          "base_uri": "https://localhost:8080/"
        },
        "id": "-kzp-nacVlga",
        "outputId": "020b17b6-ddf0-470d-c829-f64378e5e936"
      },
      "execution_count": null,
      "outputs": [
        {
          "output_type": "stream",
          "name": "stdout",
          "text": [
            " * Serving Flask app '__main__'\n",
            " * Debug mode: on\n"
          ]
        },
        {
          "output_type": "stream",
          "name": "stderr",
          "text": [
            "INFO:werkzeug:\u001b[31m\u001b[1mWARNING: This is a development server. Do not use it in a production deployment. Use a production WSGI server instead.\u001b[0m\n",
            " * Running on http://127.0.0.1:5000\n",
            "INFO:werkzeug:\u001b[33mPress CTRL+C to quit\u001b[0m\n",
            "INFO:werkzeug: * Restarting with stat\n"
          ]
        }
      ]
    },
    {
      "cell_type": "markdown",
      "source": [
        "## Loading file"
      ],
      "metadata": {
        "id": "O99JqlMuQkT8"
      }
    },
    {
      "cell_type": "markdown",
      "source": [
        "## Printing parsing results"
      ],
      "metadata": {
        "id": "Xjg98gCRRB6B"
      }
    },
    {
      "cell_type": "code",
      "source": [
        "# pages = reader.pages\n",
        "# for index, page in enumerate(pages):\n",
        "#   print(\"\\n------------------------\")\n",
        "#   print(\"PAGE \", index)\n",
        "#   print(page.extract_text())"
      ],
      "metadata": {
        "colab": {
          "base_uri": "https://localhost:8080/"
        },
        "collapsed": true,
        "id": "wOopJ8g_RBRN",
        "outputId": "a73e9dbb-f350-46fb-f346-470c0074f0cd"
      },
      "execution_count": 8,
      "outputs": [
        {
          "output_type": "stream",
          "name": "stdout",
          "text": [
            "\n",
            "------------------------\n",
            "PAGE  0\n",
            "BCSE306L Artificial Intelligence L T P C\n",
            "3 0 0 3\n",
            "Pre-requisite NIL Syllabus version \n",
            " 1.0 \n",
            "Course Objectives \n",
            "1. To impart artificial intelligence principles, techniques and its history.\n",
            "2. To assess the applicability, strengths, and weaknesses of the basic knowledge \n",
            "representation, problem solving, and learning methods in solving engineering \n",
            "problems  \n",
            "3. To develop intelligent systems by assembling solutions to concrete computational \n",
            "problems\n",
            "Course Outcomes \n",
            "On completion of this course, student should be able to:\n",
            "1. Evaluate Artificial Intelligence (AI) methods and describe their foundations. \n",
            "2. Apply basic principles of AI in solutions that require problem- solving, inference, \n",
            "perception, knowledge representation and learning. \n",
            "3. Demonstrate knowledge of reasoning, uncertainty, and knowledge representation for \n",
            "solving real-world problems \n",
            "4. Analyse and illustrate how search algorithms play a vital role in problem-solving \n",
            "Module:1  Introduction 6 hours\n",
            "Introduction- Evolution of AI, State of Art -Different Types of Artificial Intelligence-\n",
            "Applications of AI-Subfields of AI-Intelligent Agents- Structure of Intelligent Agents- \n",
            "Environments \n",
            "Module:2  Problem Solving based on Searching 6 hours\n",
            "Introduction to Problem Solving by searching Methods- State Space search, Uninformed \n",
            "Search Methods – Uniform Cost Search, Breadth First Search- Depth First Search-Depth-\n",
            "limited search, Iterative deepening depth-first, Informed Search Methods- Best First Search, \n",
            "A* Search \n",
            "Module 3 Local Search and Adversarial Search 5 hours\n",
            "Local Search algorithms – Hill-climbing search, Simulated annealing, Genetic Algorithm, \n",
            "Adversarial Search: Game Trees and Minimax Evaluation, Elementary two-players games: \n",
            "tic-tac-toe, Minimax with Alpha-Beta Pruning.\n",
            "Module:4 Logic and Reasoning 8 hours\n",
            "Introduction to Logic and Reasoning -Propositional Logic-First Order Logic-Inference in First \n",
            "Order Logic- Unification, Forward Chaining, Backward Chaining, Resolution.\n",
            "Module:5 Uncertain Knowledge and Reasoning 5 hours\n",
            "Quantifying Uncertainty- Bayes Rule -Bayesian Belief Network- Approximate Inference in \n",
            "Bayesian networks\n",
            "Module:6  Planning 7 hours\n",
            "Classical planning, Planning as State- space search, Forward search, backward search, \n",
            "Planning graphs, Hierarchical Planning, Planning and acting in Nondeterministic domains – \n",
            "Sensor-less Planning, Multiagent planning \n",
            "Module:7  Communicating, Perceiving and Acting  6 hours\n",
            "Communication-Fundamentals of Language -Probabilistic Language Processing - Information \n",
            "Retrieval- Information Extraction-Perception-Image Formation- Object Recognition. \n",
            "Module:8  Contemporary Issues 2 hours\n",
            "Total Lecture hours: 45 hours\n",
            "Text Book\n",
            "1. Russell, S. and Norvig, P. 2015. Artificial Intelligence - A Modern Approach, 3rd Edition, \n",
            "Prentice Hall.Agenda Item 65/39 - Annexure - 35\n",
            "Proceedings of the 65th Academic Council (17.03.2022) 994\n",
            "\n",
            "------------------------\n",
            "PAGE  1\n",
            "Reference Books\n",
            "1.\n",
            "2 Alpaydin, E. 2010. Introduction to Machine Learning. 2ndEdition, MIT Press.\n",
            "Mode of Evaluation: CAT, Assignment, Quiz, FAT\n",
            "Recommended by Board of Studies 04-03-2022\n",
            "Approved by Academic Council No. 65 Date 17-03-2022\n",
            " Agenda Item 65/39 - Annexure - 35\n",
            "Proceedings of the 65th Academic Council (17.03.2022) 995\n"
          ]
        }
      ]
    }
  ]
}
